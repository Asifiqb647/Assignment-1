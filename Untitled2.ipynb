{
 "cells": [
  {
   "cell_type": "code",
   "execution_count": 3,
   "id": "74761e68-0fc7-4c17-ae1b-b153d50d6e9f",
   "metadata": {},
   "outputs": [],
   "source": [
    "## Q1. Who developed Python Programming Language?\n",
    "# Ans. Python was created by Guido van Rossum, and released in 1991."
   ]
  },
  {
   "cell_type": "code",
   "execution_count": 4,
   "id": "f2a07456-85d7-4f75-a012-c98f6f93b5ba",
   "metadata": {},
   "outputs": [],
   "source": [
    "## Q2. Which type of Programming does Python support?\n",
    "## Ans. Python Support object-oriented, structured, and functional programming."
   ]
  },
  {
   "cell_type": "code",
   "execution_count": 5,
   "id": "b14e0459-0e13-45c3-9ee9-817ad1dd1970",
   "metadata": {},
   "outputs": [],
   "source": [
    "## Q3. Is Python case sensitive when dealing with identifiers?\n",
    "## Ans.'Yes' Python is case sensitive when dealling with identifiers."
   ]
  },
  {
   "cell_type": "code",
   "execution_count": 6,
   "id": "650d38bf-399e-49e7-93b2-18775e6901d5",
   "metadata": {},
   "outputs": [],
   "source": [
    "## Q4. What is the correct extension of the Python file? \n",
    "## Ans.'.PY' is the correct extension of python files."
   ]
  },
  {
   "cell_type": "code",
   "execution_count": 7,
   "id": "08a6996c-f753-4415-a0ce-e9550f900945",
   "metadata": {},
   "outputs": [],
   "source": [
    "## Q5. Is Python code compiled or interpreted?\n",
    "## Ans.Python codes are interpreted."
   ]
  },
  {
   "cell_type": "code",
   "execution_count": 8,
   "id": "15185658-a3ce-4be0-80fa-45d0fd28dedc",
   "metadata": {},
   "outputs": [],
   "source": [
    "## Q6. Name a few blocks of code used to define in Python language? \n",
    "## Ans. Conditional Block(If, Elif & Else), Loop Block(For & While), Function Block(def), , Exception Block(Try), Class Block(class)."
   ]
  },
  {
   "cell_type": "code",
   "execution_count": 9,
   "id": "348dec18-57a3-497b-a0ad-2b3a570d0b77",
   "metadata": {},
   "outputs": [],
   "source": [
    "## Q7. State a character used to give single-line comments in Python? \n",
    "## Ans. Eric Cartman (#) is used to give single-line comments in Python."
   ]
  },
  {
   "cell_type": "code",
   "execution_count": 10,
   "id": "72f93cf1-5c52-46e9-8123-11df3d61dccf",
   "metadata": {},
   "outputs": [],
   "source": [
    "## Q8. Mention functions which can help us to find the version of python that we are currently working on? \n",
    "## Ans. 'sys.version' will help us to find the version of python that we are currently working on."
   ]
  },
  {
   "cell_type": "code",
   "execution_count": 20,
   "id": "920edb79-7542-4d79-af1f-804f7336af6d",
   "metadata": {},
   "outputs": [],
   "source": [
    "## Q9. Python supports the creation of anonymous functions at runtime, using a construct called \n",
    "## Ans.'lambda' will help us to create anonymous function at run time."
   ]
  },
  {
   "cell_type": "code",
   "execution_count": 21,
   "id": "2c1fa7de-d118-4d20-a41a-3041d0db3b15",
   "metadata": {},
   "outputs": [],
   "source": [
    "## Q10. What does pip stand for python? \n",
    "## Ans.PIP stands for 'Preferred Installer Program' or 'Preferred Installer Package'."
   ]
  },
  {
   "cell_type": "code",
   "execution_count": 22,
   "id": "42bfaac5-b84f-48fb-bd1d-60889a3b367f",
   "metadata": {},
   "outputs": [],
   "source": [
    "## Q11. Mention a few built-in functions in python? \n",
    "## Ans. print( ),type( ),input( ),len(),  are some built-in functions in python."
   ]
  },
  {
   "cell_type": "code",
   "execution_count": 23,
   "id": "1a616a4e-e764-4f4b-911c-62dc603a4723",
   "metadata": {},
   "outputs": [],
   "source": [
    "## Q12. What is the maximum possible length of an identifier in Python? \n",
    "## Ans. An identifier can have a maximum length of 79 characters in Python."
   ]
  },
  {
   "cell_type": "code",
   "execution_count": 24,
   "id": "0f123b1a-859e-4ec0-b308-789c70b97c12",
   "metadata": {},
   "outputs": [],
   "source": [
    "## Q13. What are the benefits of using Python?\n",
    "## Ans. Data science, Scientific and mathematical computing, Web development, Security and penetration testing are some of the benefits of using python"
   ]
  },
  {
   "cell_type": "code",
   "execution_count": 25,
   "id": "6393439b-0d4e-4c99-8373-b8503b2529a7",
   "metadata": {},
   "outputs": [],
   "source": [
    "## Q14. How is memory managed in Python?\n",
    "## Ans. Memory in Python is managed by Python \"private heap space\". All Python objects and data structures are located in a private heap. This private heap is taken care of by Python Interpreter itself, and a programmer doesn't have access to this private heap."
   ]
  },
  {
   "cell_type": "code",
   "execution_count": 26,
   "id": "f0f424ea-07de-47ab-9a6b-1b6d86a90b49",
   "metadata": {},
   "outputs": [],
   "source": [
    "## Q15. How to install Python on Windows and set path variables?\n",
    "## Ans.\n",
    "#Download the Python installer: Go to the official Python website and download the latest version of Python for Windows. Choose the appropriate installer based on your system architecture (32-bit or 64-bit).\n",
    "#Run the installer: Once the installer is downloaded, run the executable file and follow the prompts to install Python on your system. Make sure to check the box \"Add Python to PATH\" during the installation process.\n",
    "#Set Path Variables: After the installation is complete, you need to set the PATH environment variable to access Python from the command prompt. To do this, follow these steps:\n",
    "#Open the Control Panel and search for \"Environment Variables\" in the search box.\n",
    "#Click on \"Edit the system environment variables\" and then click on the \"Environment Variables\" button.\n",
    "#Under \"System Variables,\" scroll down and find the \"Path\" variable. Select it and click on \"Edit\".\n",
    "#Add the path of the Python installation directory (e.g., C:\\Python39) at the end of the \"Variable value\" field, separated by a semicolon. Make sure to include the Scripts folder (e.g., C:\\Python39\\Scripts) as well.\n",
    "#Click on \"OK\" to save the changes.\n"
   ]
  },
  {
   "cell_type": "code",
   "execution_count": 27,
   "id": "6d3976ba-08e7-438f-a728-51bf0ffc7c4a",
   "metadata": {},
   "outputs": [],
   "source": [
    "## Q16. Is indentation required in python? \n",
    "## Ans. 'Yes' Indentation is very Important in python."
   ]
  },
  {
   "cell_type": "code",
   "execution_count": null,
   "id": "2489ceff-bc84-4791-aab7-d1d36caf9804",
   "metadata": {},
   "outputs": [],
   "source": []
  }
 ],
 "metadata": {
  "kernelspec": {
   "display_name": "Python 3 (ipykernel)",
   "language": "python",
   "name": "python3"
  },
  "language_info": {
   "codemirror_mode": {
    "name": "ipython",
    "version": 3
   },
   "file_extension": ".py",
   "mimetype": "text/x-python",
   "name": "python",
   "nbconvert_exporter": "python",
   "pygments_lexer": "ipython3",
   "version": "3.10.8"
  }
 },
 "nbformat": 4,
 "nbformat_minor": 5
}
